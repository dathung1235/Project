{
  "nbformat": 4,
  "nbformat_minor": 0,
  "metadata": {
    "colab": {
      "provenance": [],
      "mount_file_id": "1x2zdPb_y-iKLNWq4AaEVj83ZgINIvsVh",
      "authorship_tag": "ABX9TyPLbOAX8TEYigHRnoz7bV0X",
      "include_colab_link": true
    },
    "kernelspec": {
      "name": "python3",
      "display_name": "Python 3"
    },
    "language_info": {
      "name": "python"
    }
  },
  "cells": [
    {
      "cell_type": "markdown",
      "metadata": {
        "id": "view-in-github",
        "colab_type": "text"
      },
      "source": [
        "<a href=\"https://colab.research.google.com/github/dathung1235/Project/blob/main/DATA_WRANGLING_1.ipynb\" target=\"_parent\"><img src=\"https://colab.research.google.com/assets/colab-badge.svg\" alt=\"Open In Colab\"/></a>"
      ]
    },
    {
      "cell_type": "code",
      "execution_count": 2,
      "metadata": {
        "colab": {
          "base_uri": "https://localhost:8080/"
        },
        "id": "uA4mgo4-Hph3",
        "outputId": "ffbdb869-b184-452e-8498-cda97eb3712f"
      },
      "outputs": [
        {
          "output_type": "execute_result",
          "data": {
            "text/plain": [
              "product_id\n",
              "64          956000\n",
              "3954203     877500\n",
              "3998909     280500\n",
              "4085861    8247500\n",
              "Name: revenue, dtype: int64"
            ]
          },
          "metadata": {},
          "execution_count": 2
        }
      ],
      "source": [
        "import pandas as pd\n",
        "import numpy as np\n",
        "\n",
        "#load file\n",
        "sales = pd.read_csv('/content/drive/MyDrive/COLAB/sales.csv')\n",
        "prices = pd.read_csv('/content/drive/MyDrive/COLAB/prices.csv')\n",
        "\n",
        "sales['ordered_at'] = pd.to_datetime(sales['ordered_at'])\n",
        "prices['updated_at'] = pd.to_datetime(prices['updated_at'])\n",
        "\n",
        "sales = sales.sort_values(by='ordered_at')\n",
        "sales\n",
        "\n",
        "prices = prices.sort_values(by='updated_at')\n",
        "prices\n",
        "\n",
        "merge_nearest = pd.merge_asof(sales, prices, left_on='ordered_at', right_on='updated_at', by='product_id', direction='nearest')\n",
        "\n",
        "merge_nearest['listed_price'] = np.where(merge_nearest['ordered_at'] >= merge_nearest['updated_at'],\n",
        "                                         merge_nearest['new_price'], merge_nearest['old_price'])\n",
        "merge_nearest.head(10)\n",
        "\n",
        "merge_nearest['revenue'] = merge_nearest['quantity_ordered'] * merge_nearest['listed_price']\n",
        "total_revenue_by_product_and_price = merge_nearest.groupby(['product_id', 'listed_price'], as_index=False)['revenue'].sum()\n",
        "total_revenue_by_product_and_price\n",
        "\n",
        "total_revenue = merge_nearest.groupby('product_id')['revenue'].sum()\n",
        "total_revenue"
      ]
    }
  ]
}